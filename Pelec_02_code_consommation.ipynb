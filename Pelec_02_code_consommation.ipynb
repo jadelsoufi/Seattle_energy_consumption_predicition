{
 "cells": [
  {
   "cell_type": "code",
   "execution_count": 1,
   "id": "bbc88e3a",
   "metadata": {},
   "outputs": [],
   "source": [
    "import pandas as pd\n",
    "import os\n",
    "import matplotlib.pyplot as plt\n",
    "%matplotlib inline\n",
    "import seaborn as sns\n",
    "import numpy as np\n",
    "import time\n",
    "\n",
    "from sklearn.model_selection import GridSearchCV, train_test_split, cross_val_score, KFold\n",
    "from sklearn.preprocessing import StandardScaler\n",
    "from sklearn.linear_model import LinearRegression\n",
    "from sklearn.ensemble import RandomForestRegressor, GradientBoostingRegressor\n",
    "from sklearn.svm import SVC\n",
    "from sklearn.svm import SVR\n",
    "from sklearn.metrics import mean_squared_error, mean_absolute_error\n",
    "from sklearn.dummy import DummyRegressor\n",
    "from sklearn.decomposition import PCA\n",
    "from sklearn.discriminant_analysis import LinearDiscriminantAnalysis as LDA\n",
    "\n",
    "from scipy import stats\n"
   ]
  },
  {
   "cell_type": "code",
   "execution_count": 2,
   "id": "1c2f13e2",
   "metadata": {},
   "outputs": [],
   "source": [
    "pd.set_option('display.max_columns', 500)\n",
    "pd.set_option('display.max_rows', 200)"
   ]
  },
  {
   "cell_type": "code",
   "execution_count": 3,
   "id": "2864f884",
   "metadata": {},
   "outputs": [],
   "source": [
    "os.chdir(r\"C:\\Users\\jadel\\Documents\\OpenClassrooms\\Projet 3\")"
   ]
  },
  {
   "cell_type": "code",
   "execution_count": 4,
   "id": "5f7cec72",
   "metadata": {},
   "outputs": [],
   "source": [
    "#chargement du fichier csv cleané dans le notebook précédent\n",
    "df = pd.read_csv(\"consommation_seattle.csv\", sep = ',')"
   ]
  },
  {
   "cell_type": "code",
   "execution_count": 5,
   "id": "066fb58a",
   "metadata": {},
   "outputs": [
    {
     "data": {
      "text/plain": [
       "Index(['DataYear', 'YearBuilt', 'NumberofFloors', 'PropertyGFAParking',\n",
       "       'PropertyGFABuilding(s)', 'BuildingType', 'PrimaryPropertyType',\n",
       "       'LargestPropertyUseType', 'ENERGYSTARScore', 'SteamUse%',\n",
       "       'Electricity%', 'NaturalGas%', 'TotalGHGEmissions',\n",
       "       'SiteEnergyUse(kBtu)'],\n",
       "      dtype='object')"
      ]
     },
     "execution_count": 5,
     "metadata": {},
     "output_type": "execute_result"
    }
   ],
   "source": [
    "df.columns"
   ]
  },
  {
   "cell_type": "code",
   "execution_count": 6,
   "id": "118f0db4",
   "metadata": {},
   "outputs": [
    {
     "data": {
      "text/plain": [
       "0"
      ]
     },
     "execution_count": 6,
     "metadata": {},
     "output_type": "execute_result"
    }
   ],
   "source": [
    "df.isna().sum().sum()\n",
    "#pas de nans"
   ]
  },
  {
   "cell_type": "code",
   "execution_count": 7,
   "id": "c6263e92",
   "metadata": {},
   "outputs": [],
   "source": [
    "#changement des catégories pour optimiser les processeurs\n",
    "dic_types = {'BuildingType': 'category',\n",
    "            'PrimaryPropertyType': 'category',\n",
    "            'NumberofFloors' : 'int',\n",
    "            'LargestPropertyUseType' : 'category'}\n",
    "\n",
    "df = df.astype(dic_types, errors = 'ignore')"
   ]
  },
  {
   "cell_type": "code",
   "execution_count": 8,
   "id": "0bf4e59c",
   "metadata": {},
   "outputs": [],
   "source": [
    "#dichotomisation des colonnes catégorielles\n",
    "df = pd.get_dummies(df, columns = ['BuildingType', 'PrimaryPropertyType','LargestPropertyUseType'])"
   ]
  },
  {
   "cell_type": "code",
   "execution_count": 9,
   "id": "7850ffec",
   "metadata": {},
   "outputs": [
    {
     "data": {
      "text/html": [
       "<div>\n",
       "<style scoped>\n",
       "    .dataframe tbody tr th:only-of-type {\n",
       "        vertical-align: middle;\n",
       "    }\n",
       "\n",
       "    .dataframe tbody tr th {\n",
       "        vertical-align: top;\n",
       "    }\n",
       "\n",
       "    .dataframe thead th {\n",
       "        text-align: right;\n",
       "    }\n",
       "</style>\n",
       "<table border=\"1\" class=\"dataframe\">\n",
       "  <thead>\n",
       "    <tr style=\"text-align: right;\">\n",
       "      <th></th>\n",
       "      <th>DataYear</th>\n",
       "      <th>YearBuilt</th>\n",
       "      <th>NumberofFloors</th>\n",
       "      <th>PropertyGFAParking</th>\n",
       "      <th>PropertyGFABuilding(s)</th>\n",
       "      <th>ENERGYSTARScore</th>\n",
       "      <th>SteamUse%</th>\n",
       "      <th>Electricity%</th>\n",
       "      <th>NaturalGas%</th>\n",
       "      <th>TotalGHGEmissions</th>\n",
       "      <th>SiteEnergyUse(kBtu)</th>\n",
       "      <th>BuildingType_Campus</th>\n",
       "      <th>BuildingType_Multifamily HR (10+)</th>\n",
       "      <th>BuildingType_Multifamily LR (1-4)</th>\n",
       "      <th>BuildingType_Multifamily MR (5-9)</th>\n",
       "      <th>BuildingType_NonResidential</th>\n",
       "      <th>BuildingType_Nonresidential COS</th>\n",
       "      <th>BuildingType_SPS-District K-12</th>\n",
       "      <th>PrimaryPropertyType_Distribution Center</th>\n",
       "      <th>PrimaryPropertyType_High-Rise Multifamily</th>\n",
       "      <th>PrimaryPropertyType_Hospital</th>\n",
       "      <th>PrimaryPropertyType_Hotel</th>\n",
       "      <th>PrimaryPropertyType_K-12 School</th>\n",
       "      <th>PrimaryPropertyType_Large Office</th>\n",
       "      <th>PrimaryPropertyType_Low-Rise Multifamily</th>\n",
       "      <th>PrimaryPropertyType_Medical Office</th>\n",
       "      <th>PrimaryPropertyType_Mid-Rise Multifamily</th>\n",
       "      <th>PrimaryPropertyType_Mixed Use Property</th>\n",
       "      <th>PrimaryPropertyType_Non-Refrigerated Warehouse</th>\n",
       "      <th>PrimaryPropertyType_Other</th>\n",
       "      <th>PrimaryPropertyType_Residence Hall</th>\n",
       "      <th>PrimaryPropertyType_Retail Store</th>\n",
       "      <th>PrimaryPropertyType_Senior Care Community</th>\n",
       "      <th>PrimaryPropertyType_Small- and Mid-Sized Office</th>\n",
       "      <th>PrimaryPropertyType_Supermarket/Grocery Store</th>\n",
       "      <th>PrimaryPropertyType_Warehouse</th>\n",
       "      <th>PrimaryPropertyType_Worship Facility</th>\n",
       "      <th>LargestPropertyUseType_Distribution Center</th>\n",
       "      <th>LargestPropertyUseType_Hospital (General Medical &amp; Surgical)</th>\n",
       "      <th>LargestPropertyUseType_Hotel</th>\n",
       "      <th>LargestPropertyUseType_K-12 School</th>\n",
       "      <th>LargestPropertyUseType_Medical Office</th>\n",
       "      <th>LargestPropertyUseType_Multifamily Housing</th>\n",
       "      <th>LargestPropertyUseType_Non-Refrigerated Warehouse</th>\n",
       "      <th>LargestPropertyUseType_Office</th>\n",
       "      <th>LargestPropertyUseType_Other</th>\n",
       "      <th>LargestPropertyUseType_Parking</th>\n",
       "      <th>LargestPropertyUseType_Refrigerated Warehouse</th>\n",
       "      <th>LargestPropertyUseType_Residence Hall/Dormitory</th>\n",
       "      <th>LargestPropertyUseType_Retail Store</th>\n",
       "      <th>LargestPropertyUseType_Senior Care Community</th>\n",
       "      <th>LargestPropertyUseType_Supermarket/Grocery Store</th>\n",
       "      <th>LargestPropertyUseType_Worship Facility</th>\n",
       "    </tr>\n",
       "  </thead>\n",
       "  <tbody>\n",
       "    <tr>\n",
       "      <th>0</th>\n",
       "      <td>2015</td>\n",
       "      <td>1927</td>\n",
       "      <td>12</td>\n",
       "      <td>0.000000</td>\n",
       "      <td>11.390023</td>\n",
       "      <td>65.0</td>\n",
       "      <td>3.40053</td>\n",
       "      <td>52.80</td>\n",
       "      <td>18.22</td>\n",
       "      <td>5.523179</td>\n",
       "      <td>15.758764</td>\n",
       "      <td>0</td>\n",
       "      <td>0</td>\n",
       "      <td>0</td>\n",
       "      <td>0</td>\n",
       "      <td>1</td>\n",
       "      <td>0</td>\n",
       "      <td>0</td>\n",
       "      <td>0</td>\n",
       "      <td>0</td>\n",
       "      <td>0</td>\n",
       "      <td>1</td>\n",
       "      <td>0</td>\n",
       "      <td>0</td>\n",
       "      <td>0</td>\n",
       "      <td>0</td>\n",
       "      <td>0</td>\n",
       "      <td>0</td>\n",
       "      <td>0</td>\n",
       "      <td>0</td>\n",
       "      <td>0</td>\n",
       "      <td>0</td>\n",
       "      <td>0</td>\n",
       "      <td>0</td>\n",
       "      <td>0</td>\n",
       "      <td>0</td>\n",
       "      <td>0</td>\n",
       "      <td>0</td>\n",
       "      <td>0</td>\n",
       "      <td>1</td>\n",
       "      <td>0</td>\n",
       "      <td>0</td>\n",
       "      <td>0</td>\n",
       "      <td>0</td>\n",
       "      <td>0</td>\n",
       "      <td>0</td>\n",
       "      <td>0</td>\n",
       "      <td>0</td>\n",
       "      <td>0</td>\n",
       "      <td>0</td>\n",
       "      <td>0</td>\n",
       "      <td>0</td>\n",
       "      <td>0</td>\n",
       "    </tr>\n",
       "    <tr>\n",
       "      <th>1</th>\n",
       "      <td>2015</td>\n",
       "      <td>1996</td>\n",
       "      <td>11</td>\n",
       "      <td>9.620129</td>\n",
       "      <td>11.390792</td>\n",
       "      <td>51.0</td>\n",
       "      <td>0.00000</td>\n",
       "      <td>46.75</td>\n",
       "      <td>53.25</td>\n",
       "      <td>5.577879</td>\n",
       "      <td>15.938279</td>\n",
       "      <td>0</td>\n",
       "      <td>0</td>\n",
       "      <td>0</td>\n",
       "      <td>0</td>\n",
       "      <td>1</td>\n",
       "      <td>0</td>\n",
       "      <td>0</td>\n",
       "      <td>0</td>\n",
       "      <td>0</td>\n",
       "      <td>0</td>\n",
       "      <td>1</td>\n",
       "      <td>0</td>\n",
       "      <td>0</td>\n",
       "      <td>0</td>\n",
       "      <td>0</td>\n",
       "      <td>0</td>\n",
       "      <td>0</td>\n",
       "      <td>0</td>\n",
       "      <td>0</td>\n",
       "      <td>0</td>\n",
       "      <td>0</td>\n",
       "      <td>0</td>\n",
       "      <td>0</td>\n",
       "      <td>0</td>\n",
       "      <td>0</td>\n",
       "      <td>0</td>\n",
       "      <td>0</td>\n",
       "      <td>0</td>\n",
       "      <td>1</td>\n",
       "      <td>0</td>\n",
       "      <td>0</td>\n",
       "      <td>0</td>\n",
       "      <td>0</td>\n",
       "      <td>0</td>\n",
       "      <td>0</td>\n",
       "      <td>0</td>\n",
       "      <td>0</td>\n",
       "      <td>0</td>\n",
       "      <td>0</td>\n",
       "      <td>0</td>\n",
       "      <td>0</td>\n",
       "      <td>0</td>\n",
       "    </tr>\n",
       "    <tr>\n",
       "      <th>2</th>\n",
       "      <td>2015</td>\n",
       "      <td>1969</td>\n",
       "      <td>41</td>\n",
       "      <td>0.000000</td>\n",
       "      <td>13.776760</td>\n",
       "      <td>18.0</td>\n",
       "      <td>3.32791</td>\n",
       "      <td>68.04</td>\n",
       "      <td>5.07</td>\n",
       "      <td>7.631664</td>\n",
       "      <td>18.107758</td>\n",
       "      <td>0</td>\n",
       "      <td>0</td>\n",
       "      <td>0</td>\n",
       "      <td>0</td>\n",
       "      <td>1</td>\n",
       "      <td>0</td>\n",
       "      <td>0</td>\n",
       "      <td>0</td>\n",
       "      <td>0</td>\n",
       "      <td>0</td>\n",
       "      <td>1</td>\n",
       "      <td>0</td>\n",
       "      <td>0</td>\n",
       "      <td>0</td>\n",
       "      <td>0</td>\n",
       "      <td>0</td>\n",
       "      <td>0</td>\n",
       "      <td>0</td>\n",
       "      <td>0</td>\n",
       "      <td>0</td>\n",
       "      <td>0</td>\n",
       "      <td>0</td>\n",
       "      <td>0</td>\n",
       "      <td>0</td>\n",
       "      <td>0</td>\n",
       "      <td>0</td>\n",
       "      <td>0</td>\n",
       "      <td>0</td>\n",
       "      <td>1</td>\n",
       "      <td>0</td>\n",
       "      <td>0</td>\n",
       "      <td>0</td>\n",
       "      <td>0</td>\n",
       "      <td>0</td>\n",
       "      <td>0</td>\n",
       "      <td>0</td>\n",
       "      <td>0</td>\n",
       "      <td>0</td>\n",
       "      <td>0</td>\n",
       "      <td>0</td>\n",
       "      <td>0</td>\n",
       "      <td>0</td>\n",
       "    </tr>\n",
       "    <tr>\n",
       "      <th>3</th>\n",
       "      <td>2015</td>\n",
       "      <td>1980</td>\n",
       "      <td>18</td>\n",
       "      <td>9.430359</td>\n",
       "      <td>11.584604</td>\n",
       "      <td>67.0</td>\n",
       "      <td>0.00000</td>\n",
       "      <td>40.91</td>\n",
       "      <td>59.09</td>\n",
       "      <td>6.231858</td>\n",
       "      <td>16.512102</td>\n",
       "      <td>0</td>\n",
       "      <td>0</td>\n",
       "      <td>0</td>\n",
       "      <td>0</td>\n",
       "      <td>1</td>\n",
       "      <td>0</td>\n",
       "      <td>0</td>\n",
       "      <td>0</td>\n",
       "      <td>0</td>\n",
       "      <td>0</td>\n",
       "      <td>1</td>\n",
       "      <td>0</td>\n",
       "      <td>0</td>\n",
       "      <td>0</td>\n",
       "      <td>0</td>\n",
       "      <td>0</td>\n",
       "      <td>0</td>\n",
       "      <td>0</td>\n",
       "      <td>0</td>\n",
       "      <td>0</td>\n",
       "      <td>0</td>\n",
       "      <td>0</td>\n",
       "      <td>0</td>\n",
       "      <td>0</td>\n",
       "      <td>0</td>\n",
       "      <td>0</td>\n",
       "      <td>0</td>\n",
       "      <td>0</td>\n",
       "      <td>1</td>\n",
       "      <td>0</td>\n",
       "      <td>0</td>\n",
       "      <td>0</td>\n",
       "      <td>0</td>\n",
       "      <td>0</td>\n",
       "      <td>0</td>\n",
       "      <td>0</td>\n",
       "      <td>0</td>\n",
       "      <td>0</td>\n",
       "      <td>0</td>\n",
       "      <td>0</td>\n",
       "      <td>0</td>\n",
       "      <td>0</td>\n",
       "    </tr>\n",
       "    <tr>\n",
       "      <th>4</th>\n",
       "      <td>2015</td>\n",
       "      <td>1926</td>\n",
       "      <td>11</td>\n",
       "      <td>0.000000</td>\n",
       "      <td>11.326704</td>\n",
       "      <td>25.0</td>\n",
       "      <td>0.00000</td>\n",
       "      <td>42.85</td>\n",
       "      <td>57.15</td>\n",
       "      <td>5.344533</td>\n",
       "      <td>15.648547</td>\n",
       "      <td>0</td>\n",
       "      <td>0</td>\n",
       "      <td>0</td>\n",
       "      <td>0</td>\n",
       "      <td>1</td>\n",
       "      <td>0</td>\n",
       "      <td>0</td>\n",
       "      <td>0</td>\n",
       "      <td>0</td>\n",
       "      <td>0</td>\n",
       "      <td>1</td>\n",
       "      <td>0</td>\n",
       "      <td>0</td>\n",
       "      <td>0</td>\n",
       "      <td>0</td>\n",
       "      <td>0</td>\n",
       "      <td>0</td>\n",
       "      <td>0</td>\n",
       "      <td>0</td>\n",
       "      <td>0</td>\n",
       "      <td>0</td>\n",
       "      <td>0</td>\n",
       "      <td>0</td>\n",
       "      <td>0</td>\n",
       "      <td>0</td>\n",
       "      <td>0</td>\n",
       "      <td>0</td>\n",
       "      <td>0</td>\n",
       "      <td>1</td>\n",
       "      <td>0</td>\n",
       "      <td>0</td>\n",
       "      <td>0</td>\n",
       "      <td>0</td>\n",
       "      <td>0</td>\n",
       "      <td>0</td>\n",
       "      <td>0</td>\n",
       "      <td>0</td>\n",
       "      <td>0</td>\n",
       "      <td>0</td>\n",
       "      <td>0</td>\n",
       "      <td>0</td>\n",
       "      <td>0</td>\n",
       "    </tr>\n",
       "  </tbody>\n",
       "</table>\n",
       "</div>"
      ],
      "text/plain": [
       "   DataYear  YearBuilt  NumberofFloors  PropertyGFAParking  \\\n",
       "0      2015       1927              12            0.000000   \n",
       "1      2015       1996              11            9.620129   \n",
       "2      2015       1969              41            0.000000   \n",
       "3      2015       1980              18            9.430359   \n",
       "4      2015       1926              11            0.000000   \n",
       "\n",
       "   PropertyGFABuilding(s)  ENERGYSTARScore  SteamUse%  Electricity%  \\\n",
       "0               11.390023             65.0    3.40053         52.80   \n",
       "1               11.390792             51.0    0.00000         46.75   \n",
       "2               13.776760             18.0    3.32791         68.04   \n",
       "3               11.584604             67.0    0.00000         40.91   \n",
       "4               11.326704             25.0    0.00000         42.85   \n",
       "\n",
       "   NaturalGas%  TotalGHGEmissions  SiteEnergyUse(kBtu)  BuildingType_Campus  \\\n",
       "0        18.22           5.523179            15.758764                    0   \n",
       "1        53.25           5.577879            15.938279                    0   \n",
       "2         5.07           7.631664            18.107758                    0   \n",
       "3        59.09           6.231858            16.512102                    0   \n",
       "4        57.15           5.344533            15.648547                    0   \n",
       "\n",
       "   BuildingType_Multifamily HR (10+)  BuildingType_Multifamily LR (1-4)  \\\n",
       "0                                  0                                  0   \n",
       "1                                  0                                  0   \n",
       "2                                  0                                  0   \n",
       "3                                  0                                  0   \n",
       "4                                  0                                  0   \n",
       "\n",
       "   BuildingType_Multifamily MR (5-9)  BuildingType_NonResidential  \\\n",
       "0                                  0                            1   \n",
       "1                                  0                            1   \n",
       "2                                  0                            1   \n",
       "3                                  0                            1   \n",
       "4                                  0                            1   \n",
       "\n",
       "   BuildingType_Nonresidential COS  BuildingType_SPS-District K-12  \\\n",
       "0                                0                               0   \n",
       "1                                0                               0   \n",
       "2                                0                               0   \n",
       "3                                0                               0   \n",
       "4                                0                               0   \n",
       "\n",
       "   PrimaryPropertyType_Distribution Center  \\\n",
       "0                                        0   \n",
       "1                                        0   \n",
       "2                                        0   \n",
       "3                                        0   \n",
       "4                                        0   \n",
       "\n",
       "   PrimaryPropertyType_High-Rise Multifamily  PrimaryPropertyType_Hospital  \\\n",
       "0                                          0                             0   \n",
       "1                                          0                             0   \n",
       "2                                          0                             0   \n",
       "3                                          0                             0   \n",
       "4                                          0                             0   \n",
       "\n",
       "   PrimaryPropertyType_Hotel  PrimaryPropertyType_K-12 School  \\\n",
       "0                          1                                0   \n",
       "1                          1                                0   \n",
       "2                          1                                0   \n",
       "3                          1                                0   \n",
       "4                          1                                0   \n",
       "\n",
       "   PrimaryPropertyType_Large Office  PrimaryPropertyType_Low-Rise Multifamily  \\\n",
       "0                                 0                                         0   \n",
       "1                                 0                                         0   \n",
       "2                                 0                                         0   \n",
       "3                                 0                                         0   \n",
       "4                                 0                                         0   \n",
       "\n",
       "   PrimaryPropertyType_Medical Office  \\\n",
       "0                                   0   \n",
       "1                                   0   \n",
       "2                                   0   \n",
       "3                                   0   \n",
       "4                                   0   \n",
       "\n",
       "   PrimaryPropertyType_Mid-Rise Multifamily  \\\n",
       "0                                         0   \n",
       "1                                         0   \n",
       "2                                         0   \n",
       "3                                         0   \n",
       "4                                         0   \n",
       "\n",
       "   PrimaryPropertyType_Mixed Use Property  \\\n",
       "0                                       0   \n",
       "1                                       0   \n",
       "2                                       0   \n",
       "3                                       0   \n",
       "4                                       0   \n",
       "\n",
       "   PrimaryPropertyType_Non-Refrigerated Warehouse  PrimaryPropertyType_Other  \\\n",
       "0                                               0                          0   \n",
       "1                                               0                          0   \n",
       "2                                               0                          0   \n",
       "3                                               0                          0   \n",
       "4                                               0                          0   \n",
       "\n",
       "   PrimaryPropertyType_Residence Hall  PrimaryPropertyType_Retail Store  \\\n",
       "0                                   0                                 0   \n",
       "1                                   0                                 0   \n",
       "2                                   0                                 0   \n",
       "3                                   0                                 0   \n",
       "4                                   0                                 0   \n",
       "\n",
       "   PrimaryPropertyType_Senior Care Community  \\\n",
       "0                                          0   \n",
       "1                                          0   \n",
       "2                                          0   \n",
       "3                                          0   \n",
       "4                                          0   \n",
       "\n",
       "   PrimaryPropertyType_Small- and Mid-Sized Office  \\\n",
       "0                                                0   \n",
       "1                                                0   \n",
       "2                                                0   \n",
       "3                                                0   \n",
       "4                                                0   \n",
       "\n",
       "   PrimaryPropertyType_Supermarket/Grocery Store  \\\n",
       "0                                              0   \n",
       "1                                              0   \n",
       "2                                              0   \n",
       "3                                              0   \n",
       "4                                              0   \n",
       "\n",
       "   PrimaryPropertyType_Warehouse  PrimaryPropertyType_Worship Facility  \\\n",
       "0                              0                                     0   \n",
       "1                              0                                     0   \n",
       "2                              0                                     0   \n",
       "3                              0                                     0   \n",
       "4                              0                                     0   \n",
       "\n",
       "   LargestPropertyUseType_Distribution Center  \\\n",
       "0                                           0   \n",
       "1                                           0   \n",
       "2                                           0   \n",
       "3                                           0   \n",
       "4                                           0   \n",
       "\n",
       "   LargestPropertyUseType_Hospital (General Medical & Surgical)  \\\n",
       "0                                                  0              \n",
       "1                                                  0              \n",
       "2                                                  0              \n",
       "3                                                  0              \n",
       "4                                                  0              \n",
       "\n",
       "   LargestPropertyUseType_Hotel  LargestPropertyUseType_K-12 School  \\\n",
       "0                             1                                   0   \n",
       "1                             1                                   0   \n",
       "2                             1                                   0   \n",
       "3                             1                                   0   \n",
       "4                             1                                   0   \n",
       "\n",
       "   LargestPropertyUseType_Medical Office  \\\n",
       "0                                      0   \n",
       "1                                      0   \n",
       "2                                      0   \n",
       "3                                      0   \n",
       "4                                      0   \n",
       "\n",
       "   LargestPropertyUseType_Multifamily Housing  \\\n",
       "0                                           0   \n",
       "1                                           0   \n",
       "2                                           0   \n",
       "3                                           0   \n",
       "4                                           0   \n",
       "\n",
       "   LargestPropertyUseType_Non-Refrigerated Warehouse  \\\n",
       "0                                                  0   \n",
       "1                                                  0   \n",
       "2                                                  0   \n",
       "3                                                  0   \n",
       "4                                                  0   \n",
       "\n",
       "   LargestPropertyUseType_Office  LargestPropertyUseType_Other  \\\n",
       "0                              0                             0   \n",
       "1                              0                             0   \n",
       "2                              0                             0   \n",
       "3                              0                             0   \n",
       "4                              0                             0   \n",
       "\n",
       "   LargestPropertyUseType_Parking  \\\n",
       "0                               0   \n",
       "1                               0   \n",
       "2                               0   \n",
       "3                               0   \n",
       "4                               0   \n",
       "\n",
       "   LargestPropertyUseType_Refrigerated Warehouse  \\\n",
       "0                                              0   \n",
       "1                                              0   \n",
       "2                                              0   \n",
       "3                                              0   \n",
       "4                                              0   \n",
       "\n",
       "   LargestPropertyUseType_Residence Hall/Dormitory  \\\n",
       "0                                                0   \n",
       "1                                                0   \n",
       "2                                                0   \n",
       "3                                                0   \n",
       "4                                                0   \n",
       "\n",
       "   LargestPropertyUseType_Retail Store  \\\n",
       "0                                    0   \n",
       "1                                    0   \n",
       "2                                    0   \n",
       "3                                    0   \n",
       "4                                    0   \n",
       "\n",
       "   LargestPropertyUseType_Senior Care Community  \\\n",
       "0                                             0   \n",
       "1                                             0   \n",
       "2                                             0   \n",
       "3                                             0   \n",
       "4                                             0   \n",
       "\n",
       "   LargestPropertyUseType_Supermarket/Grocery Store  \\\n",
       "0                                                 0   \n",
       "1                                                 0   \n",
       "2                                                 0   \n",
       "3                                                 0   \n",
       "4                                                 0   \n",
       "\n",
       "   LargestPropertyUseType_Worship Facility  \n",
       "0                                        0  \n",
       "1                                        0  \n",
       "2                                        0  \n",
       "3                                        0  \n",
       "4                                        0  "
      ]
     },
     "execution_count": 9,
     "metadata": {},
     "output_type": "execute_result"
    }
   ],
   "source": [
    "df.head()"
   ]
  },
  {
   "cell_type": "code",
   "execution_count": 10,
   "id": "a64bd611",
   "metadata": {},
   "outputs": [
    {
     "data": {
      "text/plain": [
       "(4995, 53)"
      ]
     },
     "execution_count": 10,
     "metadata": {},
     "output_type": "execute_result"
    }
   ],
   "source": [
    "df.shape"
   ]
  },
  {
   "cell_type": "code",
   "execution_count": 27,
   "id": "2bbf99f3",
   "metadata": {},
   "outputs": [],
   "source": [
    "#on commence à effectuer la prédiction de la consommation éléctrique\n",
    "X_train = df.loc[df['DataYear']==2015].drop(['DataYear', 'SiteEnergyUse(kBtu)', 'TotalGHGEmissions'], axis=1)\n",
    "X_test = df.loc[df['DataYear']==2016].drop(['DataYear', 'SiteEnergyUse(kBtu)', 'TotalGHGEmissions'], axis=1)\n",
    "y_train = df.loc[df['DataYear']==2015]['SiteEnergyUse(kBtu)']\n",
    "y_test = df.loc[df['DataYear']==2016]['SiteEnergyUse(kBtu)']"
   ]
  },
  {
   "cell_type": "code",
   "execution_count": 28,
   "id": "db785077",
   "metadata": {},
   "outputs": [],
   "source": [
    "scaler = StandardScaler()\n",
    "X_train = scaler.fit_transform(X_train)\n",
    "X_test = scaler.transform(X_test)"
   ]
  },
  {
   "cell_type": "code",
   "execution_count": 13,
   "id": "afb9b7fc",
   "metadata": {},
   "outputs": [
    {
     "data": {
      "text/plain": [
       "DummyRegressor()"
      ]
     },
     "execution_count": 13,
     "metadata": {},
     "output_type": "execute_result"
    }
   ],
   "source": [
    "dummy_regr = DummyRegressor(strategy=\"mean\")\n",
    "dummy_regr.fit(X_train, y_train)"
   ]
  },
  {
   "cell_type": "code",
   "execution_count": 14,
   "id": "9721f0ee",
   "metadata": {},
   "outputs": [
    {
     "data": {
      "text/plain": [
       "LinearRegression()"
      ]
     },
     "execution_count": 14,
     "metadata": {},
     "output_type": "execute_result"
    }
   ],
   "source": [
    "lin_reg = LinearRegression()\n",
    "lin_reg.fit(X_train, y_train)"
   ]
  },
  {
   "cell_type": "code",
   "execution_count": 15,
   "id": "be8e450a",
   "metadata": {},
   "outputs": [
    {
     "name": "stdout",
     "output_type": "stream",
     "text": [
      "Execution time : 246.460595369339 secondes\n"
     ]
    },
    {
     "data": {
      "text/plain": [
       "{'max_depth': 8, 'max_features': 'auto', 'n_estimators': 2000}"
      ]
     },
     "execution_count": 15,
     "metadata": {},
     "output_type": "execute_result"
    }
   ],
   "source": [
    "param_grid_rf = { 'max_depth': [4,6,8],\n",
    "              'max_features': ['auto', 'log2', 'sqrt'], 'n_estimators': [2000]}\n",
    "\n",
    "\n",
    "rf = RandomForestRegressor()\n",
    "grid_search_rf = GridSearchCV(rf, param_grid_rf, cv=5, scoring='neg_mean_squared_error',return_train_score=True, n_jobs = -1)\n",
    "t0=time.time()\n",
    "grid_search_rf.fit(X_train, y_train)\n",
    "print(\"Execution time :\",time.time()-t0,\"secondes\")\n",
    "grid_search_rf.best_params_"
   ]
  },
  {
   "cell_type": "code",
   "execution_count": 16,
   "id": "71a025ca",
   "metadata": {},
   "outputs": [
    {
     "name": "stdout",
     "output_type": "stream",
     "text": [
      "Execution time : 2633.9209694862366 secondes\n"
     ]
    },
    {
     "data": {
      "text/plain": [
       "{'learning_rate': 0.01,\n",
       " 'max_depth': 7,\n",
       " 'min_samples_split': 15,\n",
       " 'n_estimators': 5000,\n",
       " 'validation_fraction': 0}"
      ]
     },
     "execution_count": 16,
     "metadata": {},
     "output_type": "execute_result"
    }
   ],
   "source": [
    "param_grid_gbr = {'n_estimators' : [5000],\n",
    "                    'max_depth' : [7,8,10],\n",
    "                    'learning_rate' : [0.01],\n",
    "                    'validation_fraction' : [0,.3],\n",
    "                    'min_samples_split' : [5, 15]}\n",
    "\n",
    "gbr = GradientBoostingRegressor()\n",
    "grid_search_gbr = GridSearchCV(gbr, param_grid_gbr, cv=5, scoring='neg_mean_squared_error',return_train_score=True, n_jobs = -1)\n",
    "t0=time.time()\n",
    "grid_search_gbr.fit(X_train, y_train)\n",
    "print(\"Execution time :\",time.time()-t0,\"secondes\")\n",
    "grid_search_gbr.best_params_"
   ]
  },
  {
   "cell_type": "code",
   "execution_count": 17,
   "id": "a2da3ca9",
   "metadata": {},
   "outputs": [
    {
     "name": "stdout",
     "output_type": "stream",
     "text": [
      "Execution time : 44.89533233642578 secondes\n"
     ]
    },
    {
     "data": {
      "text/plain": [
       "{'C': 0.1, 'kernel': 'sigmoid'}"
      ]
     },
     "execution_count": 17,
     "metadata": {},
     "output_type": "execute_result"
    }
   ],
   "source": [
    "param_grid_svr = [{'kernel' :['poly'],\n",
    "                'C' : [.1,1,100],\n",
    "                   'degree' : [5,7]},\n",
    "                  {'kernel' :['sigmoid'],\n",
    "                'C' : [.1,1,100]},\n",
    "                   {'kernel' :['rbf'],\n",
    "               'gamma' : [1,0.1,0.01],\n",
    "                'C' : [.1,1,100]}]\n",
    "\n",
    "svr = SVR()\n",
    "grid_search_svr = GridSearchCV(svr, param_grid_svr, cv=5, scoring='neg_mean_squared_error',return_train_score=True, n_jobs=-1)\n",
    "t0=time.time()\n",
    "grid_search_svr.fit(X_train, y_train)\n",
    "print(\"Execution time :\",time.time()-t0,\"secondes\")\n",
    "grid_search_svr.best_params_"
   ]
  },
  {
   "cell_type": "code",
   "execution_count": 18,
   "id": "28906cf7",
   "metadata": {},
   "outputs": [],
   "source": [
    "def exp_trans(x):\n",
    "    return np.exp(x)-1"
   ]
  },
  {
   "cell_type": "code",
   "execution_count": 29,
   "id": "96856e28",
   "metadata": {},
   "outputs": [],
   "source": [
    "y_test = exp_trans(y_test)\n",
    "y_train = exp_trans(y_train)"
   ]
  },
  {
   "cell_type": "code",
   "execution_count": 55,
   "id": "57e54904",
   "metadata": {},
   "outputs": [],
   "source": [
    "def print_perf(model, model_name, X_train=X_train, X_test=X_test, y_train=y_train, y_test=y_test):\n",
    "    y_pred_train = model.predict(X_train)\n",
    "    y_pred_train = exp_trans(y_pred_train)\n",
    "    y_pred_test = model.predict(X_test)\n",
    "    y_pred_test = exp_trans(y_pred_test)\n",
    "    print(f\"{model_name} RMSE train : {mean_squared_error(y_pred_train, y_train, squared = False):n}\")\n",
    "    print(f\"{model_name} RMSE test : {mean_squared_error(y_pred_test, y_test, squared = False):n}, refit time: {model.refit_time_:.2f}\")\n",
    "    print(f\"{model_name} MAE test : {mean_absolute_error(y_pred_test, y_test):n}\\n\")"
   ]
  },
  {
   "cell_type": "code",
   "execution_count": 56,
   "id": "5417b8a7",
   "metadata": {},
   "outputs": [],
   "source": [
    "def print_perf_2(model, model_name, X_train=X_train, X_test=X_test, y_train=y_train, y_test=y_test):\n",
    "    y_pred_train = model.predict(X_train)\n",
    "    y_pred_train = exp_trans(y_pred_train)\n",
    "    y_pred_test = model.predict(X_test)\n",
    "    y_pred_test = exp_trans(y_pred_test)\n",
    "    print(f\"{model_name} RMSE train : {mean_squared_error(y_pred_train, y_train, squared = False):n}\")\n",
    "    print(f\"{model_name} RMSE test : {mean_squared_error(y_pred_test, y_test, squared = False):n}\")\n",
    "    print(f\"{model_name} MAE test : {mean_absolute_error(y_pred_test, y_test):n}\\n\")"
   ]
  },
  {
   "cell_type": "code",
   "execution_count": 57,
   "id": "5505ebec",
   "metadata": {
    "scrolled": true
   },
   "outputs": [
    {
     "name": "stdout",
     "output_type": "stream",
     "text": [
      "Dummy Regressor RMSE train : 1.42866e+07\n",
      "Dummy Regressor RMSE test : 1.4556e+07\n",
      "Dummy Regressor MAE test : 3.89772e+06\n",
      "\n",
      "Linear Regression RMSE train : 6.65753e+06\n",
      "Linear Regression RMSE test : 6.92165e+06\n",
      "Linear Regression MAE test : 1.33439e+06\n",
      "\n",
      "SVR RMSE train : 1.25268e+07\n",
      "SVR RMSE test : 1.28303e+07, refit time: 0.26\n",
      "SVR MAE test : 2.19686e+06\n",
      "\n",
      "Random Forest RMSE train : 5.13745e+06\n",
      "Random Forest RMSE test : 6.28208e+06, refit time: 20.15\n",
      "Random Forest MAE test : 1.2602e+06\n",
      "\n",
      "GBR RMSE train : 251487\n",
      "GBR RMSE test : 4.28784e+06, refit time: 41.36\n",
      "GBR MAE test : 753032\n",
      "\n"
     ]
    }
   ],
   "source": [
    "print_perf_2(dummy_regr, 'Dummy Regressor')\n",
    "print_perf_2(lin_reg, 'Linear Regression')\n",
    "print_perf(grid_search_svr, 'SVR')\n",
    "print_perf(grid_search_rf, 'Random Forest')\n",
    "print_perf(grid_search_gbr, 'GBR')\n",
    "\n",
    "\n",
    "#Le GBR affiche le meilleur résultat sur les données de test"
   ]
  },
  {
   "cell_type": "code",
   "execution_count": 40,
   "id": "b48897cb",
   "metadata": {},
   "outputs": [],
   "source": [
    "def confidence(model, model_name, confidence, y_test=y_test):\n",
    "    y_pred = model.predict(X_test)\n",
    "    y_pred = exp_trans(y_pred)\n",
    "    squared_errors = (y_pred - y_test)**2\n",
    "    print(f\"Intervalle de confiance {confidence*100}% de {model_name}: {np.sqrt(stats.t.interval(confidence, len(squared_errors) - 1, loc=squared_errors.mean(), scale=stats.sem(squared_errors)))}\")"
   ]
  },
  {
   "cell_type": "code",
   "execution_count": 41,
   "id": "e9674fd3",
   "metadata": {},
   "outputs": [
    {
     "name": "stderr",
     "output_type": "stream",
     "text": [
      "<ipython-input-40-ab758d2f41a3>:5: RuntimeWarning: invalid value encountered in sqrt\n",
      "  print(f\"Intervalle de confiance {confidence*100}% de {model_name}: {np.sqrt(stats.t.interval(confidence, len(squared_errors) - 1, loc=squared_errors.mean(), scale=stats.sem(squared_errors)))}\")\n"
     ]
    },
    {
     "name": "stdout",
     "output_type": "stream",
     "text": [
      "Intervalle de confiance 95.0% de Linear Regression: [              nan 10143003.33326944]\n",
      "Intervalle de confiance 95.0% de SVR: [ 8028501.64931276 16271996.6262945 ]\n",
      "Intervalle de confiance 95.0% de Random Forest: [1994726.5562423  8657380.02368349]\n",
      "Intervalle de confiance 95.0% de GBR: [             nan 6208326.87830404]\n"
     ]
    },
    {
     "name": "stderr",
     "output_type": "stream",
     "text": [
      "<ipython-input-40-ab758d2f41a3>:5: RuntimeWarning: invalid value encountered in sqrt\n",
      "  print(f\"Intervalle de confiance {confidence*100}% de {model_name}: {np.sqrt(stats.t.interval(confidence, len(squared_errors) - 1, loc=squared_errors.mean(), scale=stats.sem(squared_errors)))}\")\n"
     ]
    }
   ],
   "source": [
    "confidence(lin_reg, 'Linear Regression', .95)\n",
    "confidence(grid_search_svr, 'SVR', .95)\n",
    "confidence(grid_search_rf, 'Random Forest', .95)\n",
    "confidence(grid_search_gbr, 'GBR', 0.95)"
   ]
  },
  {
   "cell_type": "code",
   "execution_count": 39,
   "id": "a2366b46",
   "metadata": {},
   "outputs": [
    {
     "data": {
      "image/png": "[encoded data removed]",
      "text/plain": [
       "<Figure size 1080x504 with 1 Axes>"
      ]
     },
     "metadata": {
      "needs_background": "light"
     },
     "output_type": "display_data"
    }
   ],
   "source": [
    "y_pred = grid_search_gbr.predict(X_test)\n",
    "y_pred = exp_trans(y_pred)\n",
    "\n",
    "plt.figure(figsize=(15,7))\n",
    "sns.kdeplot(y_test, label='y_valid(ground truth)')\n",
    "sns.kdeplot(y_pred, label='y_pred(ground truth)')\n",
    "plt.legend();\n",
    "\n",
    "#Les deux courbes sont très proches"
   ]
  },
  {
   "cell_type": "code",
   "execution_count": 58,
   "id": "36a13167",
   "metadata": {},
   "outputs": [
    {
     "name": "stdout",
     "output_type": "stream",
     "text": [
      "Les prédictions ont en moyenne une marge d'erreur de 18.34%\n"
     ]
    }
   ],
   "source": [
    "print(f\"Les prédictions ont en moyenne une marge d'erreur de {(abs(y_pred-y_test)*100/y_test).mean():.2f}%\") "
   ]
  },
  {
   "cell_type": "code",
   "execution_count": null,
   "id": "62764c58",
   "metadata": {},
   "outputs": [],
   "source": []
  }
 ],
 "metadata": {
  "kernelspec": {
   "display_name": "Python 3",
   "language": "python",
   "name": "python3"
  },
  "language_info": {
   "codemirror_mode": {
    "name": "ipython",
    "version": 3
   },
   "file_extension": ".py",
   "mimetype": "text/x-python",
   "name": "python",
   "nbconvert_exporter": "python",
   "pygments_lexer": "ipython3",
   "version": "3.8.8"
  }
 },
 "nbformat": 4,
 "nbformat_minor": 5
}
